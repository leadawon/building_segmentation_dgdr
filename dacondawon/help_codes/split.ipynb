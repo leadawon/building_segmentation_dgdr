{
 "cells": [
  {
   "cell_type": "code",
   "execution_count": 9,
   "metadata": {},
   "outputs": [],
   "source": [
    "# dataiter = iter(train_dataloader)\n",
    "# images, masks = dataiter.next()\n",
    "\n",
    "# # 데이터로더 증강데이터 시각화\n",
    "# fig, axes = plt.subplots(2, 8, figsize=(12, 6))\n",
    "\n",
    "# for i in range(8):\n",
    "#     axes[0, i].imshow(images[i].permute(1, 2, 0))\n",
    "#     axes[0, i].set_title(f\"TrainSample\\n{images[i].shape[1]} x {images[i].shape[2]}\")\n",
    "\n",
    "#     axes[1, i].imshow(masks[i].squeeze(), cmap='gray')\n",
    "#     axes[1, i].set_title(f\"Mask\\n{masks[i].shape[0]} x {masks[i].shape[1]}\")\n",
    "\n",
    "#     #격자 제거\n",
    "#     axes[0, i].axis('off')\n",
    "#     axes[1, i].axis('off')\n",
    "\n",
    "# plt.tight_layout()\n",
    "# plt.show()"
   ]
  },
  {
   "cell_type": "code",
   "execution_count": 10,
   "metadata": {},
   "outputs": [],
   "source": [
    "import cv2\n",
    "import pandas as pd\n",
    "import numpy as np\n",
    "\n",
    "import torch\n",
    "import torch.nn as nn\n",
    "from torch.utils.data import Dataset, DataLoader\n",
    "from torchvision import transforms\n",
    "\n",
    "from tqdm import tqdm\n",
    "import albumentations as A\n",
    "from albumentations.pytorch import ToTensorV2\n",
    "\n",
    "import segmentation_models_pytorch as smp\n",
    "import matplotlib.pyplot as plt\n",
    "from IPython.display import clear_output \n",
    "import json\n"
   ]
  },
  {
   "cell_type": "code",
   "execution_count": 11,
   "metadata": {},
   "outputs": [],
   "source": [
    "# RLE 디코딩 함수\n",
    "def rle_decode(mask_rle, shape):\n",
    "    s = mask_rle.split()\n",
    "    starts, lengths = [np.asarray(x, dtype=int) for x in (s[0:][::2], s[1:][::2])]\n",
    "    starts -= 1\n",
    "    ends = starts + lengths\n",
    "    img = np.zeros(shape[0]*shape[1], dtype=np.uint8)\n",
    "    for lo, hi in zip(starts, ends):\n",
    "        img[lo:hi] = 1\n",
    "    return img.reshape(shape)\n",
    "\n",
    "# RLE 인코딩 함수\n",
    "def rle_encode(mask):\n",
    "    pixels = mask.flatten()\n",
    "    pixels = np.concatenate([[0], pixels, [0]])\n",
    "    runs = np.where(pixels[1:] != pixels[:-1])[0] + 1\n",
    "    runs[1::2] -= runs[::2]\n",
    "    return ' '.join(str(x) for x in runs)"
   ]
  },
  {
   "cell_type": "code",
   "execution_count": 12,
   "metadata": {},
   "outputs": [],
   "source": [
    "import bisect\n",
    "\n",
    "def is_number_in_list(lst, target):\n",
    "    index = bisect.bisect_left(lst, target)\n",
    "    if index != len(lst) and lst[index] == target:\n",
    "        return True\n",
    "    return False"
   ]
  },
  {
   "cell_type": "code",
   "execution_count": 15,
   "metadata": {},
   "outputs": [
    {
     "name": "stderr",
     "output_type": "stream",
     "text": [
      "100%|██████████| 7140/7140 [19:06<00:00,  6.23it/s]  "
     ]
    },
    {
     "name": "stdout",
     "output_type": "stream",
     "text": [
      "6717 6719\n"
     ]
    },
    {
     "name": "stderr",
     "output_type": "stream",
     "text": [
      "\n"
     ]
    }
   ],
   "source": [
    "# 은동이 분할코드\n",
    "\n",
    "transform = A.Compose(\n",
    "    [\n",
    "        A.Resize(224, 224),\n",
    "        A.Normalize(),\n",
    "        ToTensorV2()\n",
    "    ]\n",
    ")\n",
    "\n",
    "def get_list_idx(idx, data):\n",
    "    img_path = \"../data\" + data.iloc[idx, 1][1:]\n",
    "    image = cv2.imread(img_path)\n",
    "    #image = cv2.cvtColor(image, cv2.COLOR_BGR2RGB)\n",
    "\n",
    "    mask_rle = data.iloc[idx, 2]\n",
    "    mask = rle_decode(mask_rle, (image.shape[0], image.shape[1]))\n",
    "\n",
    "    # 이미지 분할\n",
    "    patches = split_image(image, 224, 224)\n",
    "    mask_patches = split_image(mask, 224, 224)\n",
    "\n",
    "    return patches, mask_patches\n",
    "\n",
    "def split_image(image, patch_size, stride):\n",
    "        patches = []\n",
    "        h, w = image.shape[:2]\n",
    "        for i in range(0, h-patch_size+1, stride):\n",
    "            for j in range(0, w-patch_size+1, stride):\n",
    "                if i+patch_size > h or j+patch_size > w:\n",
    "                     continue\n",
    "                patch = image[i:i+patch_size, j:j+patch_size]\n",
    "                patches.append(patch)\n",
    "        return patches\n",
    "\n",
    "\n",
    "with open(\"../baseline/train_trash.json\",\"r\") as js:\n",
    "    json_file = json.load(js)\n",
    "        \n",
    "train_trash = json_file[\"must\"]\n",
    "train_quarter = json_file[\"quarter\"]\n",
    "\n",
    "with open(\"../baseline/val_trash.json\",\"r\") as js:\n",
    "    json_file = json.load(js)\n",
    "\n",
    "val_trash = json_file[\"must\"]\n",
    "val_quarter = json_file[\"quarter\"]\n",
    "\n",
    "trash_sum_list = train_trash + train_quarter + val_trash + val_quarter\n",
    "\n",
    "trash_sum_list = sorted(trash_sum_list)\n",
    "\n",
    "data = pd.read_csv('../data/train.csv')\n",
    "idx = 0\n",
    "for i in tqdm(range(len(data))):\n",
    "    #clear_output()             \n",
    "    if is_number_in_list(trash_sum_list, i):\n",
    "        #assert False\n",
    "        continue\n",
    "\n",
    "    temp = get_list_idx(i, data)\n",
    "    for j,v in enumerate(temp[0]):\n",
    "        cv2.imwrite(f\"../split_data_224_trash/train_img/{idx}_{j}.png\",v)\n",
    "    for j,v in enumerate(temp[1]):\n",
    "        cv2.imwrite(f\"../split_data_224_trash/train_mask/{idx}_{j}.png\",v)\n",
    "    idx += 1\n",
    "    \n",
    "print(len(data)-len(trash_sum_list), idx-1)"
   ]
  },
  {
   "cell_type": "markdown",
   "metadata": {},
   "source": [
    "0 ~ 7139 _ 0~15 . png"
   ]
  },
  {
   "cell_type": "markdown",
   "metadata": {},
   "source": []
  },
  {
   "cell_type": "code",
   "execution_count": null,
   "metadata": {},
   "outputs": [],
   "source": []
  }
 ],
 "metadata": {
  "kernelspec": {
   "display_name": "bsvenv",
   "language": "python",
   "name": "bsvenv"
  },
  "language_info": {
   "codemirror_mode": {
    "name": "ipython",
    "version": 3
   },
   "file_extension": ".py",
   "mimetype": "text/x-python",
   "name": "python",
   "nbconvert_exporter": "python",
   "pygments_lexer": "ipython3",
   "version": "3.7.6"
  },
  "orig_nbformat": 4
 },
 "nbformat": 4,
 "nbformat_minor": 2
}
