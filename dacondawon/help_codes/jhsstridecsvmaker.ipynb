{
 "cells": [
  {
   "cell_type": "code",
   "execution_count": 24,
   "metadata": {},
   "outputs": [],
   "source": [
    "import pandas as pd\n",
    "import json\n",
    "import bisect\n",
    "from tqdm import tqdm"
   ]
  },
  {
   "cell_type": "code",
   "execution_count": 3,
   "metadata": {},
   "outputs": [],
   "source": [
    "def is_number_in_list(lst, target):\n",
    "    index = bisect.bisect_left(lst, target)\n",
    "    if index != len(lst) and lst[index] == target:\n",
    "        return True\n",
    "    return False"
   ]
  },
  {
   "cell_type": "code",
   "execution_count": 17,
   "metadata": {},
   "outputs": [],
   "source": [
    "with open(\"../baseline/train_trash.json\",\"r\") as js:\n",
    "    json_file = json.load(js)\n",
    "        \n",
    "train_trash = json_file[\"must\"]\n",
    "train_quarter = json_file[\"quarter\"]\n",
    "\n",
    "with open(\"../baseline/val_trash.json\",\"r\") as js:\n",
    "    json_file = json.load(js)\n",
    "\n",
    "val_trash = json_file[\"must\"]\n",
    "val_quarter = json_file[\"quarter\"]\n",
    "\n",
    "trash_sum_list = train_trash + train_quarter + val_trash + val_quarter\n",
    "\n",
    "trash_sum_list = sorted(trash_sum_list)"
   ]
  },
  {
   "cell_type": "code",
   "execution_count": 25,
   "metadata": {},
   "outputs": [
    {
     "name": "stderr",
     "output_type": "stream",
     "text": [
      "100%|██████████| 7140/7140 [00:00<00:00, 24936.80it/s]"
     ]
    },
    {
     "name": "stdout",
     "output_type": "stream",
     "text": [
      "<bound method NDFrame.head of           img_id                    img_path  \\\n",
      "0     TRAIN_0000  ./train_img/TRAIN_0000.png   \n",
      "1     TRAIN_0001  ./train_img/TRAIN_0001.png   \n",
      "2     TRAIN_0002  ./train_img/TRAIN_0002.png   \n",
      "3     TRAIN_0003  ./train_img/TRAIN_0003.png   \n",
      "4     TRAIN_0004  ./train_img/TRAIN_0004.png   \n",
      "...          ...                         ...   \n",
      "7135  TRAIN_7135  ./train_img/TRAIN_7135.png   \n",
      "7136  TRAIN_7136  ./train_img/TRAIN_7136.png   \n",
      "7137  TRAIN_7137  ./train_img/TRAIN_7137.png   \n",
      "7138  TRAIN_7138  ./train_img/TRAIN_7138.png   \n",
      "7139  TRAIN_7139  ./train_img/TRAIN_7139.png   \n",
      "\n",
      "                                               mask_rle  \n",
      "0     9576 7 10590 17 11614 17 12638 17 13662 17 146...  \n",
      "1     208402 1 209425 6 210449 10 211473 14 212497 1...  \n",
      "2     855 34 15654 9 16678 9 16742 8 17702 9 17766 9...  \n",
      "3     362 6 745 15 798 22 900 25 1385 8 1828 16 1924...  \n",
      "4     34 27 1058 27 2082 27 3105 27 4129 27 5153 27 ...  \n",
      "...                                                 ...  \n",
      "7135  193 19 882 18 985 21 1217 17 1782 2 1906 18 20...  \n",
      "7136  85938 13 86962 20 87986 20 89009 21 90033 21 9...  \n",
      "7137  100 59 314 28 878 28 997 20 1124 59 1338 28 19...  \n",
      "7138  789 18 975 17 1814 16 2000 14 2544 2 2839 14 3...  \n",
      "7139  711 19 821 17 924 101 1740 14 1844 19 1948 101...  \n",
      "\n",
      "[6720 rows x 3 columns]>\n"
     ]
    },
    {
     "name": "stderr",
     "output_type": "stream",
     "text": [
      "\n"
     ]
    }
   ],
   "source": [
    "data = pd.read_csv('../data/train.csv')\n",
    "for i in tqdm(range(len(data))):\n",
    "    if is_number_in_list(trash_sum_list, i):\n",
    "        data.drop(i,inplace=True)\n",
    "print(data.head)"
   ]
  },
  {
   "cell_type": "code",
   "execution_count": 26,
   "metadata": {},
   "outputs": [],
   "source": [
    "data.to_csv('../data/jhstrainstride.csv', index=False)"
   ]
  }
 ],
 "metadata": {
  "kernelspec": {
   "display_name": "tilvenv",
   "language": "python",
   "name": "tilvenv"
  },
  "language_info": {
   "codemirror_mode": {
    "name": "ipython",
    "version": 3
   },
   "file_extension": ".py",
   "mimetype": "text/x-python",
   "name": "python",
   "nbconvert_exporter": "python",
   "pygments_lexer": "ipython3",
   "version": "3.7.6"
  },
  "orig_nbformat": 4
 },
 "nbformat": 4,
 "nbformat_minor": 2
}
