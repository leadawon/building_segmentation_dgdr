{
 "cells": [
  {
   "cell_type": "code",
   "execution_count": 1,
   "metadata": {},
   "outputs": [
    {
     "name": "stderr",
     "output_type": "stream",
     "text": [
      "100%|██████████| 60640/60640 [06:18<00:00, 160.09it/s]"
     ]
    },
    {
     "name": "stdout",
     "output_type": "stream",
     "text": [
      "<bound method NDFrame.head of            img_id                                           mask_rle\n",
      "0      TEST_00000  19782 1 20003 8 20226 10 20257 7 20450 11 2048...\n",
      "1      TEST_00001  35837 4 36059 6 36281 8 36504 9 36727 10 36949...\n",
      "2      TEST_00002                                                 -1\n",
      "3      TEST_00003  19 27 73 11 243 27 297 11 467 27 522 9 690 29 ...\n",
      "4      TEST_00004  16891 21 16929 6 17114 24 17145 14 17337 47 17...\n",
      "...           ...                                                ...\n",
      "60635  TEST_60635                                                 -1\n",
      "60636  TEST_60636  29094 4 29316 11 29538 14 29760 16 29979 22 30...\n",
      "60637  TEST_60637  57 19 93 12 281 19 317 12 505 19 541 13 728 21...\n",
      "60638  TEST_60638  14483 9 14700 19 14921 22 15144 24 15368 24 15...\n",
      "60639  TEST_60639  11004 8 11226 12 11446 16 11666 20 11886 25 12...\n",
      "\n",
      "[60640 rows x 2 columns]>\n"
     ]
    },
    {
     "name": "stderr",
     "output_type": "stream",
     "text": [
      "\n"
     ]
    }
   ],
   "source": [
    "import cv2\n",
    "import pandas as pd\n",
    "import numpy as np\n",
    "import matplotlib.pyplot as plt\n",
    "from IPython.display import clear_output \n",
    "from tqdm import tqdm\n",
    "import pydensecrf.densecrf as dcrf\n",
    "from pydensecrf.utils import unary_from_labels\n",
    "import random\n",
    "\n",
    "random_seed = 42\n",
    "np.random.seed(random_seed)\n",
    "random.seed(random_seed)\n",
    "\n",
    "# RLE 디코딩 함수\n",
    "def rle_decode(mask_rle, shape):\n",
    "    if mask_rle == -1:\n",
    "        return np.zeros(shape, dtype=np.uint8)\n",
    "    s = mask_rle.split()\n",
    "    starts, lengths = [np.asarray(x, dtype=int) for x in (s[0:][::2], s[1:][::2])]\n",
    "    starts -= 1\n",
    "    ends = starts + lengths\n",
    "    img = np.zeros(shape[0]*shape[1], dtype=np.uint8)\n",
    "    for lo, hi in zip(starts, ends):\n",
    "        img[lo:hi] = 1\n",
    "    return img.reshape(shape)\n",
    "\n",
    "# RLE 인코딩 함수\n",
    "def rle_encode(mask):\n",
    "    if np.sum(mask) == 0:\n",
    "        return '-1'\n",
    "    pixels = mask.flatten()\n",
    "    pixels = np.concatenate([[0], pixels, [0]])\n",
    "    runs = np.where(pixels[1:] != pixels[:-1])[0] + 1\n",
    "    runs[1::2] -= runs[::2]\n",
    "    return ' '.join(str(x) for x in runs)\n",
    "\n",
    "# 홀 채우기 함수 수정\n",
    "def mask_filling(mask):\n",
    "    # 마스크 내부 영역 추출\n",
    "    contours, _ = cv2.findContours(mask, cv2.RETR_EXTERNAL, cv2.CHAIN_APPROX_SIMPLE)\n",
    "    filled_mask = np.zeros_like(mask)\n",
    "    cv2.drawContours(filled_mask, contours, -1, 255, -1)\n",
    "    return filled_mask\n",
    "\n",
    "# CSV 파일 로드\n",
    "csv_file = pd.read_csv('../submit/b5_cityscapes_040_42000steps.csv')  # CSV 파일 경로\n",
    "\n",
    "# 결과를 저장할 새로운 DataFrame 생성\n",
    "result_data = pd.DataFrame(columns=['img_id', 'mask_rle'])\n",
    "\n",
    "# 각 사진과 마스크에 대해 예시 출력 및 결과 저장\n",
    "for i in tqdm(range(60640)):\n",
    "    # 사진 파일 경로 생성\n",
    "    \n",
    "    image_path = f'../data/test_img/{csv_file[\"img_id\"][i]}.png'  # 이미지 파일 경로 생성 (확장자에 따라 수정해야 할 수 있습니다)\n",
    "\n",
    "    # 사진 파일 확인\n",
    "    try:\n",
    "        image = cv2.imread(image_path)\n",
    "        if image is None:\n",
    "            raise FileNotFoundError(f\"Image file not found: {image_path}\")\n",
    "    except Exception as e:\n",
    "        print(str(e))\n",
    "        assert False\n",
    "\n",
    "    # 마스크 정보 로드 및 디코딩\n",
    "    mask_data = csv_file['mask_rle'][i]\n",
    "    mask = rle_decode(mask_data, image.shape[:2])\n",
    "\n",
    "    # 작은 객체 제거\n",
    "    min_object_size = 10  # 임의의 작은 객체 크기 기준 설정\n",
    "    contours, _ = cv2.findContours(mask, cv2.RETR_EXTERNAL, cv2.CHAIN_APPROX_SIMPLE)\n",
    "    for contour in contours:\n",
    "        area = cv2.contourArea(contour)\n",
    "        if area < min_object_size:\n",
    "            cv2.drawContours(mask, [contour], 0, 0, -1)\n",
    "\n",
    "    # 마스크 내부 영역 채우기\n",
    "    filled_mask = mask_filling(mask)\n",
    "\n",
    "    # DenseCRF2D 입력 설정\n",
    "\n",
    "    ############## 재욱이 추가 부분 ##################\n",
    "    # unary = np.expand_dims(mask, axis=0)\n",
    "    # unary = np.concatenate([unary, 1-unary], axis=0)\n",
    "    # unary = unary.reshape((2, -1))\n",
    "    # unary_float = unary.astype(np.float32)\n",
    "\n",
    "    # # DenseCRF2D 객체 생성\n",
    "    # d = dcrf.DenseCRF2D(224, 224, 2)  # width, height, nlabels\n",
    "\n",
    "    # # unary potential 설정\n",
    "    # d.setUnaryEnergy(unary_float)\n",
    "\n",
    "    # d.addPairwiseGaussian(sxy=3, compat=3)\n",
    "\n",
    "    # # DenseCRF2D 수행\n",
    "    # Q = d.inference(10)  # 반복 횟수 설정\n",
    "\n",
    "    # # 최적화된 마스크 가져오기\n",
    "    # filled_mask = np.argmax(Q, axis=0).reshape((224, 224))\n",
    "\n",
    "\n",
    "    # 결과를 DataFrame에 저장\n",
    "    result_data.loc[i] = [csv_file['img_id'][i], rle_encode(filled_mask)]\n",
    "\n",
    "# 결과 DataFrame을 final.csv 파일로 저장\n",
    "result_data['mask_rle'] = result_data['mask_rle'].fillna(-1)\n",
    "print(result_data.head)\n"
   ]
  },
  {
   "cell_type": "code",
   "execution_count": 2,
   "metadata": {},
   "outputs": [],
   "source": [
    "result_data.to_csv('../submit/b5_cityscapes_040_42000steps_yjypost.csv', index=False)"
   ]
  },
  {
   "cell_type": "code",
   "execution_count": 2,
   "metadata": {},
   "outputs": [
    {
     "name": "stdout",
     "output_type": "stream",
     "text": [
      "<bound method NDFrame.head of            img_id                                           mask_rle\n",
      "0      TEST_00000  20002 1 20226 9 20450 9 20480 8 20674 10 20703...\n",
      "1      TEST_00001  35839 2 36060 5 36283 6 36506 7 36728 9 36951 ...\n",
      "2      TEST_00002                                                 -1\n",
      "3      TEST_00003  21 24 69 18 243 26 295 15 466 28 520 12 689 29...\n",
      "4      TEST_00004  16682 2 16898 15 17115 24 17152 7 17338 46 175...\n",
      "...           ...                                                ...\n",
      "60635  TEST_60635                                                 -1\n",
      "60636  TEST_60636  28640 13 28860 18 29082 20 29302 24 29524 27 2...\n",
      "60637  TEST_60637  64 5 87 17 288 4 311 17 512 4 536 16 735 5 760...\n",
      "60638  TEST_60638  14714 2 14936 5 15158 8 15382 8 15605 9 15830 ...\n",
      "60639  TEST_60639  27028 5 27246 12 27465 17 27684 23 27904 27 28...\n",
      "\n",
      "[60640 rows x 2 columns]>\n"
     ]
    }
   ],
   "source": [
    "# CSV 파일 로드\n",
    "import pandas as pd\n",
    "result_data = pd.read_csv('../submit/deepexc_a15_post.csv')  # CSV 파일 경로\n",
    "result_data['mask_rle'] = result_data['mask_rle'].fillna(-1)\n",
    "print(result_data.head)\n",
    "result_data.to_csv('../submit/deepexc_a15_post.csv', index=False)"
   ]
  }
 ],
 "metadata": {
  "kernelspec": {
   "display_name": "bsvenv",
   "language": "python",
   "name": "bsvenv"
  },
  "language_info": {
   "codemirror_mode": {
    "name": "ipython",
    "version": 3
   },
   "file_extension": ".py",
   "mimetype": "text/x-python",
   "name": "python",
   "nbconvert_exporter": "python",
   "pygments_lexer": "ipython3",
   "version": "3.7.6"
  }
 },
 "nbformat": 4,
 "nbformat_minor": 4
}
