{
 "cells": [
  {
   "cell_type": "code",
   "execution_count": 1,
   "metadata": {},
   "outputs": [],
   "source": [
    "import cv2\n",
    "import pandas as pd\n",
    "import numpy as np\n",
    "\n",
    "from tqdm import tqdm\n",
    "\n",
    "\n",
    "#import segmentation_models_pytorch as smp\n",
    "import matplotlib.pyplot as plt\n",
    "from IPython.display import clear_output \n",
    "import time\n",
    "import os\n",
    "import json\n",
    "import random\n",
    "\n",
    "random_seed = 42\n",
    "np.random.seed(random_seed)\n",
    "random.seed(random_seed)"
   ]
  },
  {
   "cell_type": "code",
   "execution_count": 2,
   "metadata": {},
   "outputs": [],
   "source": [
    "# RLE 디코딩 함수\n",
    "def rle_decode(mask_rle, shape):\n",
    "    if mask_rle == -1:\n",
    "        return np.zeros(shape, dtype=np.uint8)\n",
    "    s = mask_rle.split()\n",
    "    starts, lengths = [np.asarray(x, dtype=int) for x in (s[0:][::2], s[1:][::2])]\n",
    "    starts -= 1\n",
    "    ends = starts + lengths\n",
    "    img = np.zeros(shape[0]*shape[1], dtype=np.uint8)\n",
    "    for lo, hi in zip(starts, ends):\n",
    "        img[lo:hi] = 1\n",
    "    return img.reshape(shape)\n",
    "\n",
    "# RLE 인코딩 함수\n",
    "def rle_encode(mask):\n",
    "    if np.sum(mask) == 0:\n",
    "        return '-1'\n",
    "    pixels = mask.flatten()\n",
    "    pixels = np.concatenate([[0], pixels, [0]])\n",
    "    runs = np.where(pixels[1:] != pixels[:-1])[0] + 1\n",
    "    runs[1::2] -= runs[::2]\n",
    "    return ' '.join(str(x) for x in runs)"
   ]
  },
  {
   "cell_type": "code",
   "execution_count": 3,
   "metadata": {},
   "outputs": [
    {
     "name": "stderr",
     "output_type": "stream",
     "text": [
      "100%|██████████| 60640/60640 [05:59<00:00, 168.85it/s]"
     ]
    },
    {
     "name": "stdout",
     "output_type": "stream",
     "text": [
      "<bound method NDFrame.head of            img_id                                           mask_rle\n",
      "0      TEST_00000  20002 8 20226 9 20450 9 20481 6 20673 11 20704...\n",
      "1      TEST_00001  36060 5 36282 7 36505 8 36727 10 36950 11 3717...\n",
      "2      TEST_00002                                                 -1\n",
      "3      TEST_00003  22 23 73 12 245 25 297 12 467 27 521 10 690 29...\n",
      "4      TEST_00004  16891 20 17114 24 17148 11 17338 46 17562 46 1...\n",
      "...           ...                                                ...\n",
      "60635  TEST_60635                                                 -1\n",
      "60636  TEST_60636  39420 1 39636 9 39856 14 40078 17 40301 19 405...\n",
      "60637  TEST_60637  88 18 312 18 536 18 760 18 984 18 1208 17 1432...\n",
      "60638  TEST_60638  14706 11 14928 14 15148 18 15371 20 15594 21 1...\n",
      "60639  TEST_60639  11892 9 12115 9 12337 11 12559 13 12782 14 130...\n",
      "\n",
      "[60640 rows x 2 columns]>\n"
     ]
    },
    {
     "name": "stderr",
     "output_type": "stream",
     "text": [
      "\n"
     ]
    }
   ],
   "source": [
    "csv_files = []\n",
    "csv_files.append(pd.read_csv('../submit/b5_jhsstride_040_yjypost.csv'))  # CSV 파일 경로\n",
    "csv_files.append(pd.read_csv('../submit/submit_deepsplit_post.csv'))\n",
    "#csv_files.append(pd.read_csv('../submit/b1_512size_jhsstride_040.csv'))\n",
    "\n",
    "# 결과를 저장할 새로운 DataFrame 생성\n",
    "result_data = pd.DataFrame(columns=['img_id', 'mask_rle'])\n",
    "\n",
    "hflencsv=len(csv_files) // 2\n",
    "\n",
    "for i in tqdm(range(60640)):\n",
    "    sumask=np.zeros((224,224), dtype=np.uint8)\n",
    "    for csv_file in csv_files:\n",
    "        mask_data = csv_file['mask_rle'][i]\n",
    "        mask = rle_decode(mask_data, (224,224))\n",
    "        sumask += mask\n",
    "    sumask=np.where(sumask > hflencsv,1,0)\n",
    "\n",
    "    result_data.loc[i] = [csv_file['img_id'][i], rle_encode(sumask)]\n",
    "print(result_data.head)\n"
   ]
  },
  {
   "cell_type": "code",
   "execution_count": 7,
   "metadata": {},
   "outputs": [
    {
     "name": "stdout",
     "output_type": "stream",
     "text": [
      "[[0 0 0 0]\n",
      " [0 0 0 0]\n",
      " [0 0 0 0]\n",
      " [0 0 0 0]]\n",
      "[0 0 0 0 0 0 0 0 0 0 0 0 0 0 0 0]\n"
     ]
    }
   ],
   "source": [
    "result_data.to_csv('../submit/ensemble/ensemble1.csv', index=False)"
   ]
  }
 ],
 "metadata": {
  "kernelspec": {
   "display_name": "bsvenv",
   "language": "python",
   "name": "bsvenv"
  },
  "language_info": {
   "codemirror_mode": {
    "name": "ipython",
    "version": 3
   },
   "file_extension": ".py",
   "mimetype": "text/x-python",
   "name": "python",
   "nbconvert_exporter": "python",
   "pygments_lexer": "ipython3",
   "version": "3.7.6"
  },
  "orig_nbformat": 4
 },
 "nbformat": 4,
 "nbformat_minor": 2
}
