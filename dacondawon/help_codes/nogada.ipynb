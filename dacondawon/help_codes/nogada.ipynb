{
 "cells": [
  {
   "cell_type": "code",
   "execution_count": 1,
   "metadata": {},
   "outputs": [
    {
     "name": "stdout",
     "output_type": "stream",
     "text": [
      "Device: cpu\n"
     ]
    }
   ],
   "source": [
    "#import os\n",
    "#os.environ[\"CUDA_DEVICE_ORDER\"] = \"PCI_BUS_ID\"\n",
    "#os.environ[\"CUDA_VISIBLE_DEVICES\"] = \"0\"\n",
    "import cv2\n",
    "import pandas as pd\n",
    "import numpy as np\n",
    "\n",
    "import torch\n",
    "import torch.nn as nn\n",
    "from torch.utils.data import Dataset, DataLoader\n",
    "from torchvision import transforms\n",
    "from torchvision.models import resnet50\n",
    "import segmentation_models_pytorch as smp\n",
    "import matplotlib.pyplot as plt\n",
    "\n",
    "from tqdm import tqdm\n",
    "import albumentations as A\n",
    "from albumentations.pytorch import ToTensorV2\n",
    "from IPython.display import clear_output \n",
    "#device = torch.device('cuda' if torch.cuda.is_available() else 'cpu')\n",
    "device = torch.device('cpu')\n",
    "#print(f\"Using GPU is CUDA:{os.environ['CUDA_VISIBLE_DEVICES']}\")\n",
    "print('Device:', device)\n",
    "#print('Current cuda device:', torch.cuda.current_device())\n",
    "#print('Count of using GPUs:', torch.cuda.device_count())"
   ]
  },
  {
   "cell_type": "code",
   "execution_count": 3,
   "metadata": {},
   "outputs": [],
   "source": [
    "# RLE 디코딩 함수\n",
    "def rle_decode(mask_rle, shape):\n",
    "    s = mask_rle.split()\n",
    "    starts, lengths = [np.asarray(x, dtype=int) for x in (s[0:][::2], s[1:][::2])]\n",
    "    starts -= 1\n",
    "    ends = starts + lengths\n",
    "    img = np.zeros(shape[0]*shape[1], dtype=np.uint8)\n",
    "    for lo, hi in zip(starts, ends):\n",
    "        img[lo:hi] = 1\n",
    "    return img.reshape(shape)\n",
    "\n",
    "# RLE 인코딩 함수\n",
    "def rle_encode(mask):\n",
    "    pixels = mask.flatten()\n",
    "    pixels = np.concatenate([[0], pixels, [0]])\n",
    "    runs = np.where(pixels[1:] != pixels[:-1])[0] + 1\n",
    "    runs[1::2] -= runs[::2]\n",
    "    return ' '.join(str(x) for x in runs)"
   ]
  },
  {
   "cell_type": "code",
   "execution_count": 4,
   "metadata": {},
   "outputs": [],
   "source": [
    "class SatelliteDataset(Dataset):\n",
    "    def __init__(self, csv_file, transform=None, infer=False):\n",
    "        self.data = pd.read_csv(csv_file)\n",
    "        self.transform = transform\n",
    "        self.infer = infer\n",
    "        print(\"full dataset size : \",len(self.data))\n",
    "    def __len__(self):\n",
    "        return len(self.data)\n",
    "\n",
    "    def __getitem__(self, idx):\n",
    "        #img_path = self.data.iloc[idx, 1]    # default : ./train_img/TRAIN_0000.png\n",
    "        img_path = \"../data\"+self.data.iloc[idx, 1][1:]\n",
    "        image = cv2.imread(img_path)\n",
    "        image = cv2.cvtColor(image, cv2.COLOR_BGR2RGB)\n",
    "        img_id = self.data.iloc[idx, 0]\n",
    "\n",
    "        mask_rle = self.data.iloc[idx, 2]\n",
    "        mask = rle_decode(mask_rle, (image.shape[0], image.shape[1]))\n",
    "\n",
    "        if self.transform:\n",
    "            augmented = self.transform(image=image, mask=mask)\n",
    "            image = augmented['image']\n",
    "            mask = augmented['mask']\n",
    "\n",
    "        return image, mask, img_id"
   ]
  },
  {
   "cell_type": "code",
   "execution_count": 5,
   "metadata": {},
   "outputs": [
    {
     "name": "stdout",
     "output_type": "stream",
     "text": [
      "full dataset size :  7140\n"
     ]
    }
   ],
   "source": [
    "nogada_dataset = SatelliteDataset(csv_file='../data/train.csv', transform=None, infer=None)"
   ]
  },
  {
   "cell_type": "code",
   "execution_count": null,
   "metadata": {},
   "outputs": [],
   "source": [
    "# 인덱스 범위 지정 #짝수만\n",
    "clear_output()\n",
    "checker = 30\n",
    "\n",
    "start_index = 2856 + 50 * checker\n",
    "end_index = start_index+ 50\n",
    "# a: 불 투명도 조절 0.0~1.0 기본값 0.4\n",
    "a = 0.3\n",
    "\n",
    "samples = []\n",
    "for i in range(start_index, end_index):\n",
    "    image, mask, img_id = nogada_dataset[i]\n",
    "    samples.append((image, mask, img_id))\n",
    "\n",
    "\n",
    "fig, axes = plt.subplots(end_index - start_index,1, figsize=(100, 10*(end_index-start_index)))\n",
    "\n",
    "for i, (image, mask, img_id) in enumerate(samples):\n",
    "    axes[i].imshow(image)\n",
    "    axes[i].imshow(mask.squeeze(), cmap='hot', alpha=a) # alpha -> 투명도 조절\n",
    "    axes[i].set_title(f\"{img_id}\")\n",
    "    axes[i].axis('off')\n",
    "\n",
    "plt.tight_layout()\n",
    "plt.show()"
   ]
  },
  {
   "cell_type": "code",
   "execution_count": null,
   "metadata": {},
   "outputs": [],
   "source": [
    "# 인덱스 범위 지정 #홀수만\n",
    "clear_output()\n",
    "checker = 31\n",
    "\n",
    "start_index = 2856 + 50 * checker\n",
    "end_index = start_index+ 50\n",
    "# a: 불 투명도 조절 0.0~1.0 기본값 0.4\n",
    "a = 0.3\n",
    "\n",
    "samples = []\n",
    "for i in range(start_index, end_index):\n",
    "    image, mask, img_id = nogada_dataset[i]\n",
    "    samples.append((image, mask, img_id))\n",
    "\n",
    "\n",
    "fig, axes = plt.subplots(end_index - start_index,1, figsize=(100, 10*(end_index-start_index)))\n",
    "\n",
    "for i, (image, mask, img_id) in enumerate(samples):\n",
    "    axes[i].imshow(image)\n",
    "    axes[i].imshow(mask.squeeze(), cmap='hot', alpha=a) # alpha -> 투명도 조절\n",
    "    axes[i].set_title(f\"{img_id}\")\n",
    "    axes[i].axis('off')\n",
    "\n",
    "plt.tight_layout()\n",
    "plt.show()"
   ]
  }
 ],
 "metadata": {
  "kernelspec": {
   "display_name": "tilvenv",
   "language": "python",
   "name": "tilvenv"
  },
  "language_info": {
   "codemirror_mode": {
    "name": "ipython",
    "version": 3
   },
   "file_extension": ".py",
   "mimetype": "text/x-python",
   "name": "python",
   "nbconvert_exporter": "python",
   "pygments_lexer": "ipython3",
   "version": "3.7.6"
  },
  "orig_nbformat": 4
 },
 "nbformat": 4,
 "nbformat_minor": 2
}
