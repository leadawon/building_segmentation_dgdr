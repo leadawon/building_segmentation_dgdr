{
 "cells": [
  {
   "cell_type": "code",
   "execution_count": 1,
   "metadata": {},
   "outputs": [],
   "source": [
    "import cv2\n",
    "import pandas as pd\n",
    "import numpy as np\n",
    "\n",
    "from tqdm import tqdm\n",
    "\n",
    "\n",
    "#import segmentation_models_pytorch as smp\n",
    "import matplotlib.pyplot as plt\n",
    "from IPython.display import clear_output \n",
    "import time\n",
    "import os\n",
    "import json\n",
    "import random\n",
    "\n",
    "random_seed = 42\n",
    "np.random.seed(random_seed)\n",
    "random.seed(random_seed)"
   ]
  },
  {
   "cell_type": "code",
   "execution_count": 2,
   "metadata": {},
   "outputs": [],
   "source": [
    "# RLE 디코딩 함수\n",
    "def rle_decode(mask_rle, shape):\n",
    "    if mask_rle == -1:\n",
    "        return np.zeros(shape, dtype=np.uint8)\n",
    "    s = mask_rle.split()\n",
    "    starts, lengths = [np.asarray(x, dtype=int) for x in (s[0:][::2], s[1:][::2])]\n",
    "    starts -= 1\n",
    "    ends = starts + lengths\n",
    "    img = np.zeros(shape[0]*shape[1], dtype=np.uint8)\n",
    "    for lo, hi in zip(starts, ends):\n",
    "        img[lo:hi] = 1\n",
    "    return img.reshape(shape)\n",
    "\n",
    "# RLE 인코딩 함수\n",
    "def rle_encode(mask):\n",
    "    if np.sum(mask) == 0:\n",
    "        return '-1'\n",
    "    pixels = mask.flatten()\n",
    "    pixels = np.concatenate([[0], pixels, [0]])\n",
    "    runs = np.where(pixels[1:] != pixels[:-1])[0] + 1\n",
    "    runs[1::2] -= runs[::2]\n",
    "    return ' '.join(str(x) for x in runs)"
   ]
  },
  {
   "cell_type": "code",
   "execution_count": 3,
   "metadata": {},
   "outputs": [
    {
     "name": "stderr",
     "output_type": "stream",
     "text": [
      "100%|██████████| 60640/60640 [04:29<00:00, 225.39it/s]"
     ]
    },
    {
     "name": "stdout",
     "output_type": "stream",
     "text": [
      "<bound method NDFrame.head of            img_id                                           mask_rle\n",
      "0      TEST_00000  20002 9 20226 10 20258 3 20450 11 20480 8 2067...\n",
      "1      TEST_00001  35838 3 36060 5 36282 7 36505 8 36727 10 36950...\n",
      "2      TEST_00002                                                 -1\n",
      "3      TEST_00003  21 25 73 12 243 27 297 12 467 27 521 11 690 29...\n",
      "4      TEST_00004  16891 20 17114 24 17148 11 17338 46 17561 47 1...\n",
      "...           ...                                                ...\n",
      "60635  TEST_60635                                                 -1\n",
      "60636  TEST_60636  29094 4 29316 10 29538 13 29760 15 29982 17 30...\n",
      "60637  TEST_60637  58 14 88 17 282 14 312 17 506 15 536 18 729 17...\n",
      "60638  TEST_60638  14486 2 14703 14 14923 19 15146 20 15369 22 15...\n",
      "60639  TEST_60639  11454 2 11673 9 11890 17 12111 20 12333 22 125...\n",
      "\n",
      "[60640 rows x 2 columns]>\n"
     ]
    },
    {
     "name": "stderr",
     "output_type": "stream",
     "text": [
      "\n"
     ]
    }
   ],
   "source": [
    "csv_files = []\n",
    "csv_files.append(pd.read_csv('../submit/b5_jhsstride_040_yjypost.csv'))  # CSV 파일 경로\n",
    "csv_files.append(pd.read_csv('../submit/submit_deepsplit_post.csv'))\n",
    "\n",
    "csv_files.append(pd.read_csv('../submit/b4_48batch_27000steps_040_yjypost.csv'))\n",
    "\n",
    "\n",
    "csv_files.append(pd.read_csv('../submit/deepexc_a15_post.csv'))\n",
    "csv_files.append(pd.read_csv('../submit/b5_cityscapes_040_42000steps_yjypost.csv')) #b5 48btch 42000steps\n",
    "csv_files.append(pd.read_csv('../submit/b5_ade_040_36000steps_yjypost.csv')) #b5 48btch 36000steps\n",
    "### 재현불가능한 csv파일 ###\n",
    "\n",
    "#csv_files.append(pd.read_csv('../submit/before42seed/b5_040_pre_yjypost.csv'))\n",
    "#csv_files.append(pd.read_csv('../submit/before42seed/nvidiamit_b5_040_yjypost.csv'))\n",
    "#csv_files.append(pd.read_csv('../submit/rubbish/b5_040_preprocessed_yjypost.csv'))\n",
    "\n",
    "###\n",
    "\n",
    "\n",
    "\n",
    "# 결과를 저장할 새로운 DataFrame 생성\n",
    "result_data = pd.DataFrame(columns=['img_id', 'mask_rle'])\n",
    "\n",
    "hflencsv=len(csv_files) // 2\n",
    "\n",
    "for i in tqdm(range(60640)):\n",
    "    sumask=np.zeros((224,224), dtype=np.uint8)\n",
    "    for csv_file in csv_files:\n",
    "        mask_data = csv_file['mask_rle'][i]\n",
    "        mask = rle_decode(mask_data, (224,224))\n",
    "        sumask += mask\n",
    "    sumask=np.where(sumask > hflencsv,1,0)\n",
    "\n",
    "    result_data.loc[i] = [csv_file['img_id'][i], rle_encode(sumask)]\n",
    "print(result_data.head)\n"
   ]
  },
  {
   "cell_type": "code",
   "execution_count": 4,
   "metadata": {},
   "outputs": [],
   "source": [
    "result_data.to_csv('../submit/ensemble/ensemble9.csv', index=False)"
   ]
  },
  {
   "cell_type": "code",
   "execution_count": 5,
   "metadata": {},
   "outputs": [
    {
     "name": "stdout",
     "output_type": "stream",
     "text": [
      "7\n"
     ]
    }
   ],
   "source": [
    "print(len(csv_files))"
   ]
  }
 ],
 "metadata": {
  "kernelspec": {
   "display_name": "bsvenv",
   "language": "python",
   "name": "bsvenv"
  },
  "language_info": {
   "codemirror_mode": {
    "name": "ipython",
    "version": 3
   },
   "file_extension": ".py",
   "mimetype": "text/x-python",
   "name": "python",
   "nbconvert_exporter": "python",
   "pygments_lexer": "ipython3",
   "version": "3.7.6"
  },
  "orig_nbformat": 4
 },
 "nbformat": 4,
 "nbformat_minor": 2
}
