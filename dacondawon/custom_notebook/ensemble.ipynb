{
 "cells": [
  {
   "cell_type": "code",
   "execution_count": 1,
   "metadata": {},
   "outputs": [],
   "source": [
    "import cv2\n",
    "import pandas as pd\n",
    "import numpy as np\n",
    "\n",
    "from tqdm import tqdm\n",
    "\n",
    "\n",
    "#import segmentation_models_pytorch as smp\n",
    "import matplotlib.pyplot as plt\n",
    "from IPython.display import clear_output \n",
    "import time\n",
    "import os\n",
    "import json\n",
    "import random\n",
    "\n",
    "random_seed = 42\n",
    "np.random.seed(random_seed)\n",
    "random.seed(random_seed)"
   ]
  },
  {
   "cell_type": "code",
   "execution_count": 2,
   "metadata": {},
   "outputs": [],
   "source": [
    "# RLE 디코딩 함수\n",
    "def rle_decode(mask_rle, shape):\n",
    "    if mask_rle == -1:\n",
    "        return np.zeros(shape, dtype=np.uint8)\n",
    "    s = mask_rle.split()\n",
    "    starts, lengths = [np.asarray(x, dtype=int) for x in (s[0:][::2], s[1:][::2])]\n",
    "    starts -= 1\n",
    "    ends = starts + lengths\n",
    "    img = np.zeros(shape[0]*shape[1], dtype=np.uint8)\n",
    "    for lo, hi in zip(starts, ends):\n",
    "        img[lo:hi] = 1\n",
    "    return img.reshape(shape)\n",
    "\n",
    "# RLE 인코딩 함수\n",
    "def rle_encode(mask):\n",
    "    if np.sum(mask) == 0:\n",
    "        return '-1'\n",
    "    pixels = mask.flatten()\n",
    "    pixels = np.concatenate([[0], pixels, [0]])\n",
    "    runs = np.where(pixels[1:] != pixels[:-1])[0] + 1\n",
    "    runs[1::2] -= runs[::2]\n",
    "    return ' '.join(str(x) for x in runs)"
   ]
  },
  {
   "cell_type": "code",
   "execution_count": 4,
   "metadata": {},
   "outputs": [
    {
     "name": "stderr",
     "output_type": "stream",
     "text": [
      "100%|██████████| 9/9 [00:00<00:00, 208.58it/s]"
     ]
    },
    {
     "name": "stdout",
     "output_type": "stream",
     "text": [
      "<bound method NDFrame.head of   img_id                                           mask_rle\n",
      "0      0  20103 4 20154 3 20326 8 20376 6 20550 7 20598 ...\n",
      "1      1  35393 1 35617 2 35841 3 36065 4 36289 5 36513 ...\n",
      "2      2                                                 -1\n",
      "3      3  33564 7 33787 8 34009 10 34231 12 34451 16 346...\n",
      "4      4  25108 9 25328 14 25551 16 25775 16 25999 16 26...\n",
      "5      5  10753 3 10977 3 11201 4 11425 4 11649 5 11873 ...\n",
      "6      6                                                 -1\n",
      "7      7                                                 -1\n",
      "8      8                                                 -1>\n"
     ]
    },
    {
     "name": "stderr",
     "output_type": "stream",
     "text": [
      "\n"
     ]
    }
   ],
   "source": [
    "csv_files = []\n",
    "csv_files.append(pd.read_csv('./result/b1_040_yjypost.csv'))  # CSV 파일 경로\n",
    "csv_files.append(pd.read_csv('./result/b3_040_yjypost.csv'))\n",
    "\n",
    "csv_files.append(pd.read_csv('./result/b4_040_yjypost.csv'))\n",
    "\n",
    "\n",
    "csv_files.append(pd.read_csv('./result/b5_ade_yjypost.csv'))\n",
    "csv_files.append(pd.read_csv('./result/b5_cityscapes_yjypost.csv')) #b5 48btch 42000steps\n",
    "csv_files.append(pd.read_csv('./result/b5_vanila_yjypost.csv')) #b5 48btch 36000steps\n",
    "### 재현불가능한 csv파일 ###\n",
    "\n",
    "#csv_files.append(pd.read_csv('../submit/before42seed/b5_040_pre_yjypost.csv'))\n",
    "#csv_files.append(pd.read_csv('../submit/before42seed/nvidiamit_b5_040_yjypost.csv'))\n",
    "#csv_files.append(pd.read_csv('../submit/rubbish/b5_040_preprocessed_yjypost.csv'))\n",
    "\n",
    "###\n",
    "\n",
    "\n",
    "\n",
    "# 결과를 저장할 새로운 DataFrame 생성\n",
    "result_data = pd.DataFrame(columns=['img_id', 'mask_rle'])\n",
    "\n",
    "hflencsv=len(csv_files) // 2\n",
    "\n",
    "for i in tqdm(range(9)):\n",
    "    sumask=np.zeros((224,224), dtype=np.uint8)\n",
    "    for csv_file in csv_files:\n",
    "        mask_data = csv_file['mask_rle'][i]\n",
    "        mask = rle_decode(mask_data, (224,224))\n",
    "        sumask += mask\n",
    "    sumask=np.where(sumask > hflencsv,1,0)\n",
    "\n",
    "    result_data.loc[i] = [csv_file['img_id'][i], rle_encode(sumask)]\n",
    "print(result_data.head)\n"
   ]
  },
  {
   "cell_type": "code",
   "execution_count": 5,
   "metadata": {},
   "outputs": [],
   "source": [
    "result_data.to_csv('./result/ensemble/ensemble0.csv', index=False)"
   ]
  },
  {
   "cell_type": "code",
   "execution_count": 6,
   "metadata": {},
   "outputs": [
    {
     "name": "stdout",
     "output_type": "stream",
     "text": [
      "6\n"
     ]
    }
   ],
   "source": [
    "print(len(csv_files))"
   ]
  }
 ],
 "metadata": {
  "kernelspec": {
   "display_name": "bsvenv",
   "language": "python",
   "name": "bsvenv"
  },
  "language_info": {
   "codemirror_mode": {
    "name": "ipython",
    "version": 3
   },
   "file_extension": ".py",
   "mimetype": "text/x-python",
   "name": "python",
   "nbconvert_exporter": "python",
   "pygments_lexer": "ipython3",
   "version": "3.7.6"
  },
  "orig_nbformat": 4
 },
 "nbformat": 4,
 "nbformat_minor": 2
}
