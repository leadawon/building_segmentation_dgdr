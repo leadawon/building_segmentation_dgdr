{
 "cells": [
  {
   "cell_type": "code",
   "execution_count": 14,
   "metadata": {},
   "outputs": [
    {
     "name": "stdout",
     "output_type": "stream",
     "text": [
      "Device: cpu\n"
     ]
    }
   ],
   "source": [
    "import cv2\n",
    "import pandas as pd\n",
    "import numpy as np\n",
    "\n",
    "\n",
    "\n",
    "\n",
    "#import segmentation_models_pytorch as smp\n",
    "import time\n",
    "import os\n",
    "import json\n",
    "import random\n",
    "\n",
    "#import os\n",
    "#os.environ[\"CUDA_DEVICE_ORDER\"] = \"PCI_BUS_ID\"\n",
    "#os.environ[\"CUDA_VISIBLE_DEVICES\"] = \"0\"\n",
    "\n",
    "import torch\n",
    "import torch.nn as nn\n",
    "from torch.utils.data import Dataset, DataLoader\n",
    "from torchvision.models import resnet50\n",
    "import segmentation_models_pytorch as smp\n",
    "import matplotlib.pyplot as plt\n",
    "import matplotlib\n",
    "\n",
    "from tqdm import tqdm\n",
    "from IPython.display import clear_output \n",
    "#device = torch.device('cuda' if torch.cuda.is_available() else 'cpu')\n",
    "device = torch.device('cpu')\n",
    "#print(f\"Using GPU is CUDA:{os.environ['CUDA_VISIBLE_DEVICES']}\")\n",
    "print('Device:', device)\n",
    "#print('Current cuda device:', torch.cuda.current_device())\n",
    "#print('Count of using GPUs:', torch.cuda.device_count())\n",
    "\n",
    "random_seed = 42\n",
    "np.random.seed(random_seed)\n",
    "random.seed(random_seed)"
   ]
  },
  {
   "cell_type": "code",
   "execution_count": 15,
   "metadata": {},
   "outputs": [],
   "source": [
    "# RLE 디코딩 함수\n",
    "def rle_decode(mask_rle, shape):\n",
    "    if mask_rle == -1:\n",
    "        return np.zeros(shape, dtype=np.uint8)\n",
    "    s = mask_rle.split()\n",
    "    starts, lengths = [np.asarray(x, dtype=int) for x in (s[0:][::2], s[1:][::2])]\n",
    "    starts -= 1\n",
    "    ends = starts + lengths\n",
    "    img = np.zeros(shape[0]*shape[1], dtype=np.uint8)\n",
    "    for lo, hi in zip(starts, ends):\n",
    "        img[lo:hi] = 1\n",
    "    return img.reshape(shape)\n",
    "\n",
    "# RLE 인코딩 함수\n",
    "def rle_encode(mask):\n",
    "    if np.sum(mask) == 0:\n",
    "        return '-1'\n",
    "    pixels = mask.flatten()\n",
    "    pixels = np.concatenate([[0], pixels, [0]])\n",
    "    runs = np.where(pixels[1:] != pixels[:-1])[0] + 1\n",
    "    runs[1::2] -= runs[::2]\n",
    "    return ' '.join(str(x) for x in runs)"
   ]
  },
  {
   "cell_type": "code",
   "execution_count": 16,
   "metadata": {},
   "outputs": [],
   "source": [
    "class SatelliteDataset(Dataset):\n",
    "    def __init__(self, csv_file, transform=None, infer=False):\n",
    "        \n",
    "        self.transform = transform\n",
    "        self.infer = infer\n",
    "        \n",
    "    def __len__(self):\n",
    "        return 16\n",
    "\n",
    "    def __getitem__(self, idx):\n",
    "        #img_path = self.data.iloc[idx, 1]    # default : ./train_img/TRAIN_0000.png\n",
    "        \n",
    "        image = cv2.imread(f\"./split_custom/ggp3_img/{idx}.png\")\n",
    "        image = cv2.cvtColor(image, cv2.COLOR_BGR2RGB)\n",
    "        \n",
    "        if self.infer:\n",
    "            if self.transform:\n",
    "                image = self.transform(image=image)['image']\n",
    "                \n",
    "\n",
    "            return image\n",
    "        assert False , \"SatelliteDataset class must be used as test dataset obj\""
   ]
  },
  {
   "cell_type": "code",
   "execution_count": 17,
   "metadata": {},
   "outputs": [],
   "source": [
    "test_dataset = SatelliteDataset(csv_file='../data/test.csv', transform=None, infer=True)"
   ]
  },
  {
   "cell_type": "code",
   "execution_count": 18,
   "metadata": {},
   "outputs": [],
   "source": [
    "ensemble_files = pd.read_csv('./result/ensemble/ensemble0.csv')"
   ]
  },
  {
   "cell_type": "code",
   "execution_count": null,
   "metadata": {},
   "outputs": [],
   "source": [
    "# 인덱스 범위 지정 #짝수만\n",
    "clear_output()\n",
    "\n",
    "# a: 불 투명도 조절 0.0~1.0 기본값 0.4\n",
    "a = 0.4\n",
    "\n",
    "samples = []\n",
    "\n",
    "NUM_OF_SPLIT = 9\n",
    "\n",
    "for i in range(NUM_OF_SPLIT):\n",
    "    image = test_dataset[i]\n",
    "    samples.append((image, i))\n",
    "\n",
    "\n",
    "fig, axes = plt.subplots(NUM_OF_SPLIT,1, figsize=(100, 8*(NUM_OF_SPLIT)))\n",
    "\n",
    "for i, (image, img_id) in enumerate(samples):\n",
    "    axes[i].imshow(image)\n",
    "    \n",
    "    \n",
    "    \n",
    "    mask_rle = ensemble_files.iloc[i,1]\n",
    "    mask = rle_decode(mask_rle, (image.shape[0], image.shape[1]))\n",
    "    axes[i].imshow(mask.squeeze(), cmap='hot', alpha=a)\n",
    "\n",
    "    axes[i].set_title(f\"{img_id}\")\n",
    "    axes[i].axis('off')\n",
    "\n",
    "plt.tight_layout()\n",
    "plt.show()"
   ]
  }
 ],
 "metadata": {
  "kernelspec": {
   "display_name": "bsvenv",
   "language": "python",
   "name": "bsvenv"
  },
  "language_info": {
   "codemirror_mode": {
    "name": "ipython",
    "version": 3
   },
   "file_extension": ".py",
   "mimetype": "text/x-python",
   "name": "python",
   "nbconvert_exporter": "python",
   "pygments_lexer": "ipython3",
   "version": "3.7.6"
  },
  "orig_nbformat": 4
 },
 "nbformat": 4,
 "nbformat_minor": 2
}
