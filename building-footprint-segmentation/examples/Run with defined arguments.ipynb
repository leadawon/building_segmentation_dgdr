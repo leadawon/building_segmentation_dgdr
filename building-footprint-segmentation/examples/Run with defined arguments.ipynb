{
 "cells": [
  {
   "cell_type": "code",
   "execution_count": 1,
   "metadata": {},
   "outputs": [],
   "source": [
    "import os\n",
    "import sys\n",
    "import json\n",
    "import albumentations as A\n",
    "\n",
    "module_path = os.path.abspath(os.path.join('../'))\n",
    "if module_path not in sys.path:\n",
    "    sys.path.append(module_path)\n",
    "    \n",
    "from building_footprint_segmentation.segmentation import init_segmentation, read_trainer_config\n",
    "from building_footprint_segmentation.helpers.callbacks import CallbackList, load_callback\n",
    "from building_footprint_segmentation.trainer import Trainer"
   ]
  },
  {
   "cell_type": "markdown",
   "metadata": {},
   "source": [
    "### Initalize type of segmentation to run for building footprint"
   ]
  },
  {
   "cell_type": "code",
   "execution_count": 2,
   "metadata": {},
   "outputs": [],
   "source": [
    "segmentation = init_segmentation(\"binary\")"
   ]
  },
  {
   "cell_type": "markdown",
   "metadata": {},
   "source": [
    "### Defining augmenters to use"
   ]
  },
  {
   "cell_type": "code",
   "execution_count": 3,
   "metadata": {},
   "outputs": [],
   "source": [
    "augmenters = A.Compose([\n",
    "    A.HorizontalFlip(p=0.5),\n",
    "    A.RandomBrightnessContrast(p=0.2)\n",
    "])"
   ]
  },
  {
   "cell_type": "markdown",
   "metadata": {},
   "source": [
    "### Load essential segmentation objects for training"
   ]
  },
  {
   "cell_type": "code",
   "execution_count": 5,
   "metadata": {},
   "outputs": [],
   "source": [
    "model = segmentation.load_model(name=\"ReFineNet\")\n",
    "criterion = segmentation.load_criterion(name=\"BinaryCrossEntropy\")\n",
    "loader = segmentation.load_loader(\n",
    "    root_folder=r\"D:\\Cypherics\\Library\\building-footprint-segmentation\\data\",\n",
    "    image_normalization=\"divide_by_255\",\n",
    "    label_normalization=\"binary_label\",\n",
    "    augmenters=augmenters,\n",
    "    batch_size=2,\n",
    ")\n",
    "metrics = segmentation.load_metrics(\n",
    "    data_metrics=[\"accuracy\", \"precision\", \"f1\", \"recall\", \"iou\"]\n",
    ")\n",
    "\n",
    "optimizer = segmentation.load_optimizer(model, name=\"Adam\")\n",
    "\n",
    "callbacks = CallbackList()\n",
    "# Ouptut from all the callbacks caller will be stored at the path specified in log_dir\n",
    "for caller in  [\"TrainChkCallback\", \"TimeCallback\", \"TensorBoardCallback\", \"TrainStateCallback\"]:\n",
    "    callbacks.append(load_callback(r\"D:\\Cypherics\\lib_check\\out_data\", caller))"
   ]
  },
  {
   "cell_type": "markdown",
   "metadata": {},
   "source": [
    "### Initalize the Trainer object\n"
   ]
  },
  {
   "cell_type": "code",
   "execution_count": 6,
   "metadata": {},
   "outputs": [],
   "source": [
    "trainer = Trainer(\n",
    "    model=model,\n",
    "    criterion=criterion,\n",
    "    loader=loader,\n",
    "    metrics=metrics,\n",
    "    callbacks=callbacks,\n",
    "    optimizer=optimizer,\n",
    "    scheduler=None,\n",
    ")"
   ]
  },
  {
   "cell_type": "markdown",
   "metadata": {},
   "source": [
    "### Start training\n"
   ]
  },
  {
   "cell_type": "code",
   "execution_count": 7,
   "metadata": {},
   "outputs": [
    {
     "name": "stderr",
     "output_type": "stream",
     "text": [
      "Epoch 0, lr 0.001:   0%|                                                                                                                                                                      | 0/8 [00:00<?, ?it/s]C:\\Users\\Fuzail\\anaconda3\\envs\\building-footprint-segmentation\\lib\\site-packages\\torch\\nn\\functional.py:3063: UserWarning: Default upsampling behavior when mode=bilinear is changed to align_corners=False since 0.4.0. Please specify align_corners=True if the old behavior is desired. See the documentation of nn.Upsample for details.\n",
      "  \"See the documentation of nn.Upsample for details.\".format(mode))\n",
      "Epoch 0, lr 0.001: 100%|████████████████████████████████████████████████████████████████████████████████████████████████████████████████████████████████████████████████| 8/8 [01:12<00:00,  9.04s/it, loss=2.67997]"
     ]
    },
    {
     "name": "stdout",
     "output_type": "stream",
     "text": [
      "\r",
      "\u001b[1;37m>>\u001b[KPy-OneLiner : \u001b[36mValidation\u001b[0m : \u001b[30m1/1 ETA -- 0:Days 0:Hours 0:Minutes 0:Seconds\u001b[0m"
     ]
    },
    {
     "name": "stderr",
     "output_type": "stream",
     "text": [
      "\n"
     ]
    },
    {
     "name": "stdout",
     "output_type": "stream",
     "text": [
      "\u001b[1;37m>>\u001b[KPy-OneLiner : \u001b[36mLoss\u001b[0m : \u001b[30mtrain: 2.6799654960632324, validation: 0.6257065534591675\u001b[0m\n",
      "\u001b[1;37m>>\u001b[KPy-OneLiner : \u001b[36mTrain Metric\u001b[0m : \u001b[30maccuracy : 0.79162, precision : 0.00000, f1 : 0.00000, recall : 0.00000, iou : 0.00000\u001b[0m\n",
      "\u001b[1;37m>>\u001b[KPy-OneLiner : \u001b[36mValid Metric\u001b[0m : \u001b[30maccuracy : 0.96608, precision : 0.00000, f1 : 0.00000, recall : 0.00000, iou : 0.00000\u001b[0m\n",
      "\u001b[1;37m>>\u001b[KPy-OneLiner : Training Complete\n",
      "\u001b[1;37m>>\u001b[KPy-OneLiner : \u001b[36mRun Time\u001b[0m : \u001b[30m0:Days 0:Hours 1:Minutes 34:Seconds\u001b[0m"
     ]
    }
   ],
   "source": [
    "trainer.train(start_epoch=0, end_epoch=1)"
   ]
  },
  {
   "cell_type": "markdown",
   "metadata": {},
   "source": [
    "### Resuming Training\n"
   ]
  },
  {
   "cell_type": "code",
   "execution_count": 8,
   "metadata": {},
   "outputs": [
    {
     "name": "stderr",
     "output_type": "stream",
     "text": [
      "Epoch 1, lr 0.001:   0%|                                                                                                                                                                      | 0/8 [00:00<?, ?it/s]C:\\Users\\Fuzail\\anaconda3\\envs\\building-footprint-segmentation\\lib\\site-packages\\torch\\nn\\functional.py:3063: UserWarning: Default upsampling behavior when mode=bilinear is changed to align_corners=False since 0.4.0. Please specify align_corners=True if the old behavior is desired. See the documentation of nn.Upsample for details.\n",
      "  \"See the documentation of nn.Upsample for details.\".format(mode))\n",
      "Epoch 1, lr 0.001: 100%|████████████████████████████████████████████████████████████████████████████████████████████████████████████████████████████████████████████████| 8/8 [01:05<00:00,  8.20s/it, loss=0.64895]"
     ]
    },
    {
     "name": "stdout",
     "output_type": "stream",
     "text": [
      "\r",
      "\u001b[1;37m>>\u001b[KPy-OneLiner : \u001b[36mValidation\u001b[0m : \u001b[30m1/1 ETA -- 0:Days 0:Hours 0:Minutes 0:Seconds\u001b[0m"
     ]
    },
    {
     "name": "stderr",
     "output_type": "stream",
     "text": [
      "\n"
     ]
    },
    {
     "name": "stdout",
     "output_type": "stream",
     "text": [
      "\u001b[1;37m>>\u001b[KPy-OneLiner : \u001b[36mLoss\u001b[0m : \u001b[30mtrain: 0.6489536613225937, validation: 0.6272180676460266\u001b[0m\n",
      "\u001b[1;37m>>\u001b[KPy-OneLiner : \u001b[36mTrain Metric\u001b[0m : \u001b[30maccuracy : 0.79162, precision : 0.00000, f1 : 0.00000, recall : 0.00000, iou : 0.00000\u001b[0m\n",
      "\u001b[1;37m>>\u001b[KPy-OneLiner : \u001b[36mValid Metric\u001b[0m : \u001b[30maccuracy : 0.96608, precision : 0.00000, f1 : 0.00000, recall : 0.00000, iou : 0.00000\u001b[0m\n",
      "\u001b[1;37m>>\u001b[KPy-OneLiner : Training Complete\n",
      "\u001b[1;37m>>\u001b[KPy-OneLiner : \u001b[36mRun Time\u001b[0m : \u001b[30m0:Days 0:Hours 1:Minutes 16:Seconds\u001b[0m"
     ]
    }
   ],
   "source": [
    "path_to_saved_state = r\"D:\\Cypherics\\lib_check\\out_data\\state\\default.pt\"\n",
    "\n",
    "# if new_end_epoch is None, the trainer will resume and run till end_epoch, the value of which is saved in state file \n",
    "trainer.resume(state=path_to_saved_state, new_end_epoch=2)"
   ]
  }
 ],
 "metadata": {
  "kernelspec": {
   "display_name": "Python 3",
   "language": "python",
   "name": "python3"
  },
  "language_info": {
   "codemirror_mode": {
    "name": "ipython",
    "version": 3
   },
   "file_extension": ".py",
   "mimetype": "text/x-python",
   "name": "python",
   "nbconvert_exporter": "python",
   "pygments_lexer": "ipython3",
   "version": "3.6.13"
  }
 },
 "nbformat": 4,
 "nbformat_minor": 4
}
