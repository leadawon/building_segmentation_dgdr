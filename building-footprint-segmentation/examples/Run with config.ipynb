{
 "cells": [
  {
   "cell_type": "markdown",
   "metadata": {},
   "source": [
    "### Config file used for training\n",
    "\n",
    "---\n",
    "\n",
    "Segmentation: binary\n",
    "\n",
    "Model:\n",
    "\n",
    "      name: ReFineNetLite\n",
    "      param:\n",
    "Criterion:\n",
    "\n",
    "    name: BinaryCrossEntropy\n",
    "    param:\n",
    "Loader:\n",
    "\n",
    "    root: path/to/data/folder\n",
    "    image_normalizer: divide_by_255\n",
    "    label_normalizer: binary_label\n",
    "    batch_size: 2\n",
    "\n",
    "Metrics:\n",
    "\n",
    "      - accuracy\n",
    "      - precision\n",
    "      - f1\n",
    "      - recall\n",
    "      - iou\n",
    "Optimizer:\n",
    "\n",
    "      name: Adam\n",
    "      param:\n",
    "Callbacks:\n",
    "      \n",
    "      # Ouptut from all the callbacks caller will be stored at the path specified in log_dir\n",
    "      log_dir: path/where/to/log\n",
    "      callers:\n",
    "        - TrainChkCallback\n",
    "        - TimeCallback\n",
    "        - TensorBoardCallback\n",
    "        - TrainStateCallback\n"
   ]
  },
  {
   "cell_type": "code",
   "execution_count": 1,
   "metadata": {},
   "outputs": [],
   "source": [
    "import yaml\n",
    "import os\n",
    "import sys\n",
    "import albumentations as A\n",
    "\n",
    "module_path = os.path.abspath(os.path.join('../'))\n",
    "if module_path not in sys.path:\n",
    "    sys.path.append(module_path)\n",
    "    \n",
    "from building_footprint_segmentation.segmentation import init_segmentation, read_trainer_config\n",
    "from building_footprint_segmentation.helpers.callbacks import CallbackList, load_callback\n",
    "from building_footprint_segmentation.trainer import Trainer\n",
    "\n",
    "config_path = r\"D:\\Cypherics\\Library\\building-footprint-segmentation\\config.yaml\""
   ]
  },
  {
   "cell_type": "markdown",
   "metadata": {},
   "source": [
    "### Load the config file for training"
   ]
  },
  {
   "cell_type": "code",
   "execution_count": 2,
   "metadata": {},
   "outputs": [],
   "source": [
    "config = read_trainer_config(config_path)"
   ]
  },
  {
   "cell_type": "markdown",
   "metadata": {},
   "source": [
    "### Initalize type of segmentation to run for building footprint"
   ]
  },
  {
   "cell_type": "code",
   "execution_count": 3,
   "metadata": {},
   "outputs": [],
   "source": [
    "segmentation = init_segmentation(config[\"Segmentation\"])"
   ]
  },
  {
   "cell_type": "markdown",
   "metadata": {},
   "source": [
    "### Load essential segmentation objects for training"
   ]
  },
  {
   "cell_type": "code",
   "execution_count": 4,
   "metadata": {},
   "outputs": [],
   "source": [
    "augmenters = A.Compose([\n",
    "    A.HorizontalFlip(p=0.5),\n",
    "    A.RandomBrightnessContrast(p=0.2)\n",
    "])\n",
    "\n",
    "model = segmentation.load_model(name=config[\"Model\"][\"name\"])\n",
    "criterion = segmentation.load_criterion(name=config[\"Criterion\"][\"name\"])\n",
    "loader = segmentation.load_loader(\n",
    "    config[\"Loader\"][\"root\"],\n",
    "    config[\"Loader\"][\"image_normalizer\"],\n",
    "    config[\"Loader\"][\"label_normalizer\"],\n",
    "    augmenters,\n",
    "    config[\"Loader\"][\"batch_size\"],\n",
    ")\n",
    "metrics = segmentation.load_metrics(\n",
    "    data_metrics=config[\"Metrics\"]\n",
    ")\n",
    "\n",
    "optimizer = segmentation.load_optimizer(model, name=config[\"Optimizer\"][\"name\"])\n",
    "\n",
    "callbacks = CallbackList()\n",
    "# Ouptut from all the callbacks caller will be stored at the path specified in log_dir\n",
    "for caller in config[\"Callbacks\"][\"callers\"]:\n",
    "    callbacks.append(load_callback(config[\"Callbacks\"][\"log_dir\"], caller))"
   ]
  },
  {
   "cell_type": "markdown",
   "metadata": {},
   "source": [
    "### Initalize the Trainer object\n"
   ]
  },
  {
   "cell_type": "code",
   "execution_count": 5,
   "metadata": {},
   "outputs": [],
   "source": [
    "trainer = Trainer(\n",
    "    model=model,\n",
    "    criterion=criterion,\n",
    "    loader=loader,\n",
    "    metrics=metrics,\n",
    "    callbacks=callbacks,\n",
    "    optimizer=optimizer,\n",
    "    scheduler=None,\n",
    ")"
   ]
  },
  {
   "cell_type": "markdown",
   "metadata": {},
   "source": [
    "### Start training\n"
   ]
  },
  {
   "cell_type": "code",
   "execution_count": 6,
   "metadata": {},
   "outputs": [
    {
     "name": "stderr",
     "output_type": "stream",
     "text": [
      "Epoch 0, lr 0.001:   0%|                                                                                                                                                                      | 0/8 [00:00<?, ?it/s]C:\\Users\\Fuzail\\anaconda3\\envs\\building-footprint-segmentation\\lib\\site-packages\\torch\\nn\\functional.py:3063: UserWarning: Default upsampling behavior when mode=bilinear is changed to align_corners=False since 0.4.0. Please specify align_corners=True if the old behavior is desired. See the documentation of nn.Upsample for details.\n",
      "  \"See the documentation of nn.Upsample for details.\".format(mode))\n",
      "Epoch 0, lr 0.001: 100%|████████████████████████████████████████████████████████████████████████████████████████████████████████████████████████████████████████████████| 8/8 [01:12<00:00,  9.05s/it, loss=0.64960]"
     ]
    },
    {
     "name": "stdout",
     "output_type": "stream",
     "text": [
      "\r",
      "\u001b[1;37m>>\u001b[KPy-OneLiner : \u001b[36mValidation\u001b[0m : \u001b[30m1/1 ETA -- 0:Days 0:Hours 0:Minutes 0:Seconds\u001b[0m"
     ]
    },
    {
     "name": "stderr",
     "output_type": "stream",
     "text": [
      "\n"
     ]
    },
    {
     "name": "stdout",
     "output_type": "stream",
     "text": [
      "\u001b[1;37m>>\u001b[KPy-OneLiner : \u001b[36mLoss\u001b[0m : \u001b[30mtrain: 0.6495960652828217, validation: 0.36756959557533264\u001b[0m\n",
      "\u001b[1;37m>>\u001b[KPy-OneLiner : \u001b[36mTrain Metric\u001b[0m : \u001b[30maccuracy : 0.79162, precision : 0.00000, f1 : 0.00000, recall : 0.00000, iou : 0.00000\u001b[0m\n",
      "\u001b[1;37m>>\u001b[KPy-OneLiner : \u001b[36mValid Metric\u001b[0m : \u001b[30maccuracy : 0.96608, precision : 0.00000, f1 : 0.00000, recall : 0.00000, iou : 0.00000\u001b[0m"
     ]
    },
    {
     "name": "stderr",
     "output_type": "stream",
     "text": [
      "Epoch 1, lr 0.001: 100%|████████████████████████████████████████████████████████████████████████████████████████████████████████████████████████████████████████████████| 8/8 [01:13<00:00,  9.22s/it, loss=0.55847]"
     ]
    },
    {
     "name": "stdout",
     "output_type": "stream",
     "text": [
      "\r",
      "\u001b[1;37m>>\u001b[KPy-OneLiner : \u001b[36mValidation\u001b[0m : \u001b[30m1/1 ETA -- 0:Days 0:Hours 0:Minutes 0:Seconds\u001b[0m"
     ]
    },
    {
     "name": "stderr",
     "output_type": "stream",
     "text": [
      "\n"
     ]
    },
    {
     "name": "stdout",
     "output_type": "stream",
     "text": [
      "\u001b[1;37m>>\u001b[KPy-OneLiner : \u001b[36mLoss\u001b[0m : \u001b[30mtrain: 0.5584663450717926, validation: 0.1944824457168579\u001b[0m\n",
      "\u001b[1;37m>>\u001b[KPy-OneLiner : \u001b[36mTrain Metric\u001b[0m : \u001b[30maccuracy : 0.79162, precision : 0.00000, f1 : 0.00000, recall : 0.00000, iou : 0.00000\u001b[0m\n",
      "\u001b[1;37m>>\u001b[KPy-OneLiner : \u001b[36mValid Metric\u001b[0m : \u001b[30maccuracy : 0.96608, precision : 0.00000, f1 : 0.00000, recall : 0.00000, iou : 0.00000\u001b[0m\n",
      "\u001b[1;37m>>\u001b[KPy-OneLiner : Training Complete\n",
      "\u001b[1;37m>>\u001b[KPy-OneLiner : \u001b[36mRun Time\u001b[0m : \u001b[30m0:Days 0:Hours 3:Minutes 8:Seconds\u001b[0m"
     ]
    }
   ],
   "source": [
    "trainer.train(start_epoch=0, end_epoch=2)"
   ]
  },
  {
   "cell_type": "markdown",
   "metadata": {},
   "source": [
    "### Resuming Training\n"
   ]
  },
  {
   "cell_type": "code",
   "execution_count": 7,
   "metadata": {},
   "outputs": [
    {
     "name": "stderr",
     "output_type": "stream",
     "text": [
      "Epoch 2, lr 0.001:   0%|                                                                                                                                                                      | 0/8 [00:00<?, ?it/s]C:\\Users\\Fuzail\\anaconda3\\envs\\building-footprint-segmentation\\lib\\site-packages\\torch\\nn\\functional.py:3063: UserWarning: Default upsampling behavior when mode=bilinear is changed to align_corners=False since 0.4.0. Please specify align_corners=True if the old behavior is desired. See the documentation of nn.Upsample for details.\n",
      "  \"See the documentation of nn.Upsample for details.\".format(mode))\n",
      "Epoch 2, lr 0.001: 100%|████████████████████████████████████████████████████████████████████████████████████████████████████████████████████████████████████████████████| 8/8 [00:58<00:00,  7.31s/it, loss=0.49544]"
     ]
    },
    {
     "name": "stdout",
     "output_type": "stream",
     "text": [
      "\r",
      "\u001b[1;37m>>\u001b[KPy-OneLiner : \u001b[36mValidation\u001b[0m : \u001b[30m1/1 ETA -- 0:Days 0:Hours 0:Minutes 0:Seconds\u001b[0m"
     ]
    },
    {
     "name": "stderr",
     "output_type": "stream",
     "text": [
      "\n"
     ]
    },
    {
     "name": "stdout",
     "output_type": "stream",
     "text": [
      "\u001b[1;37m>>\u001b[KPy-OneLiner : \u001b[36mLoss\u001b[0m : \u001b[30mtrain: 0.49543876200914383, validation: 0.24815678596496582\u001b[0m\n",
      "\u001b[1;37m>>\u001b[KPy-OneLiner : \u001b[36mTrain Metric\u001b[0m : \u001b[30maccuracy : 0.79162, precision : 0.00000, f1 : 0.00000, recall : 0.00000, iou : 0.00000\u001b[0m\n",
      "\u001b[1;37m>>\u001b[KPy-OneLiner : \u001b[36mValid Metric\u001b[0m : \u001b[30maccuracy : 0.96608, precision : 0.00000, f1 : 0.00000, recall : 0.00000, iou : 0.00000\u001b[0m"
     ]
    },
    {
     "name": "stderr",
     "output_type": "stream",
     "text": [
      "Epoch 3, lr 0.001: 100%|████████████████████████████████████████████████████████████████████████████████████████████████████████████████████████████████████████████████| 8/8 [00:59<00:00,  7.45s/it, loss=0.56119]"
     ]
    },
    {
     "name": "stdout",
     "output_type": "stream",
     "text": [
      "\r",
      "\u001b[1;37m>>\u001b[KPy-OneLiner : \u001b[36mValidation\u001b[0m : \u001b[30m1/1 ETA -- 0:Days 0:Hours 0:Minutes 0:Seconds\u001b[0m"
     ]
    },
    {
     "name": "stderr",
     "output_type": "stream",
     "text": [
      "\n"
     ]
    },
    {
     "name": "stdout",
     "output_type": "stream",
     "text": [
      "\u001b[1;37m>>\u001b[KPy-OneLiner : \u001b[36mLoss\u001b[0m : \u001b[30mtrain: 0.5611927509307861, validation: 0.3014044165611267\u001b[0m\n",
      "\u001b[1;37m>>\u001b[KPy-OneLiner : \u001b[36mTrain Metric\u001b[0m : \u001b[30maccuracy : 0.79162, precision : 0.00000, f1 : 0.00000, recall : 0.00000, iou : 0.00000\u001b[0m\n",
      "\u001b[1;37m>>\u001b[KPy-OneLiner : \u001b[36mValid Metric\u001b[0m : \u001b[30maccuracy : 0.96608, precision : 0.00000, f1 : 0.00000, recall : 0.00000, iou : 0.00000\u001b[0m\n",
      "\u001b[1;37m>>\u001b[KPy-OneLiner : Training Complete\n",
      "\u001b[1;37m>>\u001b[KPy-OneLiner : \u001b[36mRun Time\u001b[0m : \u001b[30m0:Days 0:Hours 2:Minutes 37:Seconds\u001b[0m"
     ]
    }
   ],
   "source": [
    "path_to_saved_state = r\"D:\\Cypherics\\lib_check\\out_data\\state\\default.pt\"\n",
    "\n",
    "# if new_end_epoch is None, the trainer will resume and run till end_epoch, the value of which is saved in state file \n",
    "trainer.resume(state=path_to_saved_state, new_end_epoch=4)"
   ]
  }
 ],
 "metadata": {
  "kernelspec": {
   "display_name": "Python 3",
   "language": "python",
   "name": "python3"
  },
  "language_info": {
   "codemirror_mode": {
    "name": "ipython",
    "version": 3
   },
   "file_extension": ".py",
   "mimetype": "text/x-python",
   "name": "python",
   "nbconvert_exporter": "python",
   "pygments_lexer": "ipython3",
   "version": "3.6.13"
  }
 },
 "nbformat": 4,
 "nbformat_minor": 4
}
