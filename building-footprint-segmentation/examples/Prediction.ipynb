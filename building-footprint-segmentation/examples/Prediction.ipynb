{
 "cells": [
  {
   "cell_type": "code",
   "execution_count": 2,
   "id": "9642c569",
   "metadata": {},
   "outputs": [
    {
     "name": "stderr",
     "output_type": "stream",
     "text": [
      "/home/leadawon5/dawon/bsvenv/lib/python3.7/site-packages/tqdm/auto.py:21: TqdmWarning: IProgress not found. Please update jupyter and ipywidgets. See https://ipywidgets.readthedocs.io/en/stable/user_install.html\n",
      "  from .autonotebook import tqdm as notebook_tqdm\n"
     ]
    }
   ],
   "source": [
    "import os.path\n",
    "import sys\n",
    "import cv2\n",
    "import torch\n",
    "import numpy as np\n",
    "import matplotlib.pyplot as plt\n",
    "\n",
    "from imageio import imsave\n",
    "from torch.utils import model_zoo\n",
    "\n",
    "module_path = os.path.abspath(os.path.join('../'))\n",
    "if module_path not in sys.path:\n",
    "    sys.path.append(module_path)\n",
    "\n",
    "from building_footprint_segmentation.seg.binary.models import ReFineNet\n",
    "from building_footprint_segmentation.helpers.normalizer import min_max_image_net\n",
    "from building_footprint_segmentation.utils.py_network import (\n",
    "    to_input_image_tensor,\n",
    "    add_extra_dimension,\n",
    "    convert_tensor_to_numpy,\n",
    "    load_parallel_model,\n",
    "    adjust_model,\n",
    ")\n",
    "from building_footprint_segmentation.utils.operations import handle_image_size"
   ]
  },
  {
   "cell_type": "code",
   "execution_count": 2,
   "id": "3ab1e3d3",
   "metadata": {},
   "outputs": [
    {
     "name": "stderr",
     "output_type": "stream",
     "text": [
      "/home/leadawon5/dawon/bsvenv/lib/python3.7/site-packages/torchvision/models/_utils.py:209: UserWarning: The parameter 'pretrained' is deprecated since 0.13 and will be removed in 0.15, please use 'weights' instead.\n",
      "  f\"The parameter '{pretrained_param}' is deprecated since 0.13 and will be removed in 0.15, \"\n",
      "/home/leadawon5/dawon/bsvenv/lib/python3.7/site-packages/torchvision/models/_utils.py:223: UserWarning: Arguments other than a weight enum or `None` for 'weights' are deprecated since 0.13 and will be removed in 0.15. The current behavior is equivalent to passing `weights=ResNet34_Weights.IMAGENET1K_V1`. You can also use `weights=ResNet34_Weights.DEFAULT` to get the most up-to-date weights.\n",
      "  warnings.warn(msg)\n"
     ]
    }
   ],
   "source": [
    "MAX_SIZE = 384\n",
    "TRAINED_MODEL = ReFineNet()\n",
    "MODEL_URL = \"https://github.com/fuzailpalnak/building-footprint-segmentation/releases/download/alpha/refine.zip\"\n",
    "\n",
    "PRED_PTH = \"/home/leadawon5/dawon/vision/dacon/building-footprint-segmentation/data/schange/test/images/22828930_15.png\""
   ]
  },
  {
   "cell_type": "code",
   "execution_count": 3,
   "id": "dc4296e5",
   "metadata": {},
   "outputs": [],
   "source": [
    "def set_model_weights():\n",
    "    state_dict = model_zoo.load_url(MODEL_URL, progress=True, map_location=\"cpu\")\n",
    "    if \"model\" in state_dict:\n",
    "        state_dict = state_dict[\"model\"]\n",
    "    TRAINED_MODEL.load_state_dict(adjust_model(state_dict))\n",
    "\n",
    "\n",
    "def extract(original_image):\n",
    "    original_height, original_width = original_image.shape[:2]\n",
    "\n",
    "    if (original_height, original_width) != (MAX_SIZE, MAX_SIZE):\n",
    "        original_image = handle_image_size(original_image, (MAX_SIZE, MAX_SIZE))\n",
    "\n",
    "    # Apply Normalization\n",
    "    normalized_image = min_max_image_net(img=original_image)\n",
    "\n",
    "    tensor_image = add_extra_dimension(to_input_image_tensor(normalized_image))\n",
    "\n",
    "    with torch.no_grad():\n",
    "        # Perform prediction\n",
    "        prediction = TRAINED_MODEL(tensor_image)\n",
    "        prediction = prediction.sigmoid()\n",
    "\n",
    "    prediction_binary = convert_tensor_to_numpy(prediction[0]).reshape(\n",
    "        (MAX_SIZE, MAX_SIZE)\n",
    "    )\n",
    "\n",
    "    prediction_3_channels = cv2.cvtColor(prediction_binary, cv2.COLOR_GRAY2RGB)\n",
    "\n",
    "    dst = cv2.addWeighted(\n",
    "        original_image,\n",
    "        1,\n",
    "        (prediction_3_channels * (0, 255, 0)).astype(np.uint8),\n",
    "        0.4,\n",
    "        0,\n",
    "    )\n",
    "    return prediction_binary, prediction_3_channels, dst\n"
   ]
  },
  {
   "cell_type": "code",
   "execution_count": 4,
   "id": "06a78a29",
   "metadata": {},
   "outputs": [],
   "source": [
    "def run(image_path):\n",
    "    original_image = cv2.imread(image_path)\n",
    "    original_image = cv2.cvtColor(original_image, cv2.COLOR_BGR2RGB)\n",
    "\n",
    "    set_model_weights()\n",
    "    # PARALLELIZE the model if gpu available\n",
    "    # model = load_parallel_model(model)\n",
    "\n",
    "    prediction_binary, prediction_3_channels, dst = extract(original_image)\n",
    "    # imsave(f\"{os.path.basename(image_path)}\", prediction_binary)\n",
    "    return prediction_binary, prediction_3_channels, dst"
   ]
  },
  {
   "cell_type": "code",
   "execution_count": 1,
   "id": "8d090485",
   "metadata": {},
   "outputs": [
    {
     "ename": "NameError",
     "evalue": "name 'run' is not defined",
     "output_type": "error",
     "traceback": [
      "\u001b[0;31m---------------------------------------------------------------------------\u001b[0m",
      "\u001b[0;31mNameError\u001b[0m                                 Traceback (most recent call last)",
      "\u001b[0;32m/tmp/ipykernel_9093/1882695655.py\u001b[0m in \u001b[0;36m<module>\u001b[0;34m\u001b[0m\n\u001b[0;32m----> 1\u001b[0;31m \u001b[0mpred\u001b[0m \u001b[0;34m=\u001b[0m \u001b[0mrun\u001b[0m\u001b[0;34m(\u001b[0m\u001b[0mPRED_PTH\u001b[0m\u001b[0;34m)\u001b[0m\u001b[0;34m\u001b[0m\u001b[0;34m\u001b[0m\u001b[0m\n\u001b[0m\u001b[1;32m      2\u001b[0m \u001b[0;34m\u001b[0m\u001b[0m\n\u001b[1;32m      3\u001b[0m \u001b[0mfig\u001b[0m\u001b[0;34m,\u001b[0m\u001b[0max\u001b[0m \u001b[0;34m=\u001b[0m \u001b[0mplt\u001b[0m\u001b[0;34m.\u001b[0m\u001b[0msubplots\u001b[0m\u001b[0;34m(\u001b[0m\u001b[0;36m1\u001b[0m\u001b[0;34m,\u001b[0m\u001b[0;36m3\u001b[0m\u001b[0;34m,\u001b[0m\u001b[0mfigsize\u001b[0m \u001b[0;34m=\u001b[0m \u001b[0;34m(\u001b[0m\u001b[0;36m15\u001b[0m\u001b[0;34m,\u001b[0m\u001b[0;36m15\u001b[0m\u001b[0;34m)\u001b[0m\u001b[0;34m)\u001b[0m\u001b[0;34m\u001b[0m\u001b[0;34m\u001b[0m\u001b[0m\n\u001b[1;32m      4\u001b[0m \u001b[0max\u001b[0m \u001b[0;34m=\u001b[0m \u001b[0max\u001b[0m\u001b[0;34m.\u001b[0m\u001b[0mravel\u001b[0m\u001b[0;34m(\u001b[0m\u001b[0;34m)\u001b[0m\u001b[0;34m\u001b[0m\u001b[0;34m\u001b[0m\u001b[0m\n\u001b[1;32m      5\u001b[0m \u001b[0;32mfor\u001b[0m \u001b[0mi\u001b[0m \u001b[0;32min\u001b[0m \u001b[0mrange\u001b[0m\u001b[0;34m(\u001b[0m\u001b[0;36m3\u001b[0m\u001b[0;34m)\u001b[0m\u001b[0;34m:\u001b[0m\u001b[0;34m\u001b[0m\u001b[0;34m\u001b[0m\u001b[0m\n",
      "\u001b[0;31mNameError\u001b[0m: name 'run' is not defined"
     ]
    }
   ],
   "source": [
    "pred = run(PRED_PTH)\n",
    "\n",
    "fig,ax = plt.subplots(1,3,figsize = (15,15))\n",
    "ax = ax.ravel()\n",
    "for i in range(3):\n",
    "  image = pred[i]\n",
    "  ax[i].imshow(image)  \n",
    "plt.show()"
   ]
  }
 ],
 "metadata": {
  "kernelspec": {
   "display_name": "bsvenv",
   "language": "python",
   "name": "bsvenv"
  },
  "language_info": {
   "codemirror_mode": {
    "name": "ipython",
    "version": 3
   },
   "file_extension": ".py",
   "mimetype": "text/x-python",
   "name": "python",
   "nbconvert_exporter": "python",
   "pygments_lexer": "ipython3",
   "version": "3.7.6"
  }
 },
 "nbformat": 4,
 "nbformat_minor": 5
}
